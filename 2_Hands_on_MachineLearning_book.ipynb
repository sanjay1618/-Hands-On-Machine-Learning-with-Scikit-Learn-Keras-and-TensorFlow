{
  "nbformat": 4,
  "nbformat_minor": 0,
  "metadata": {
    "colab": {
      "provenance": [],
      "authorship_tag": "ABX9TyMCvARXBJvhSwDJkwimajvO",
      "include_colab_link": true
    },
    "kernelspec": {
      "name": "python3",
      "display_name": "Python 3"
    },
    "language_info": {
      "name": "python"
    }
  },
  "cells": [
    {
      "cell_type": "markdown",
      "metadata": {
        "id": "view-in-github",
        "colab_type": "text"
      },
      "source": [
        "<a href=\"https://colab.research.google.com/github/sanjay1618/-Hands-On-Machine-Learning-with-Scikit-Learn-Keras-and-TensorFlow/blob/main/2_Hands_on_MachineLearning_book.ipynb\" target=\"_parent\"><img src=\"https://colab.research.google.com/assets/colab-badge.svg\" alt=\"Open In Colab\"/></a>"
      ]
    },
    {
      "cell_type": "code",
      "execution_count": 1,
      "metadata": {
        "id": "97cLNj4TeQkb"
      },
      "outputs": [],
      "source": [
        "#Extracting the dataset and loading into the hosuing variable\n",
        "from pathlib import Path\n",
        "import pandas as pd\n",
        "import tarfile\n",
        "import urllib.request\n",
        "\n",
        "def load_housing_data():\n",
        "    tarball_path = Path(\"datasets/housing.tgz\")\n",
        "    if not tarball_path.is_file():\n",
        "        Path(\"datasets\").mkdir(parents=True, exist_ok=True)\n",
        "        url = \"https://github.com/ageron/data/raw/main/housing.tgz\"\n",
        "        urllib.request.urlretrieve(url, tarball_path)\n",
        "        with tarfile.open(tarball_path) as housing_tarball:\n",
        "            housing_tarball.extractall(path=\"datasets\")\n",
        "    return pd.read_csv(Path(\"datasets/housing/housing.csv\"))\n",
        "\n",
        "housing = load_housing_data()\n"
      ]
    },
    {
      "cell_type": "code",
      "source": [
        "print(housing.head(n=10))"
      ],
      "metadata": {
        "colab": {
          "base_uri": "https://localhost:8080/"
        },
        "id": "TqcGN72Uqg3T",
        "outputId": "0761b335-6a42-45b1-93a8-81524c642339"
      },
      "execution_count": 2,
      "outputs": [
        {
          "output_type": "stream",
          "name": "stdout",
          "text": [
            "   longitude  latitude  housing_median_age  total_rooms  total_bedrooms  \\\n",
            "0    -122.23     37.88                41.0        880.0           129.0   \n",
            "1    -122.22     37.86                21.0       7099.0          1106.0   \n",
            "2    -122.24     37.85                52.0       1467.0           190.0   \n",
            "3    -122.25     37.85                52.0       1274.0           235.0   \n",
            "4    -122.25     37.85                52.0       1627.0           280.0   \n",
            "5    -122.25     37.85                52.0        919.0           213.0   \n",
            "6    -122.25     37.84                52.0       2535.0           489.0   \n",
            "7    -122.25     37.84                52.0       3104.0           687.0   \n",
            "8    -122.26     37.84                42.0       2555.0           665.0   \n",
            "9    -122.25     37.84                52.0       3549.0           707.0   \n",
            "\n",
            "   population  households  median_income  median_house_value ocean_proximity  \n",
            "0       322.0       126.0         8.3252            452600.0        NEAR BAY  \n",
            "1      2401.0      1138.0         8.3014            358500.0        NEAR BAY  \n",
            "2       496.0       177.0         7.2574            352100.0        NEAR BAY  \n",
            "3       558.0       219.0         5.6431            341300.0        NEAR BAY  \n",
            "4       565.0       259.0         3.8462            342200.0        NEAR BAY  \n",
            "5       413.0       193.0         4.0368            269700.0        NEAR BAY  \n",
            "6      1094.0       514.0         3.6591            299200.0        NEAR BAY  \n",
            "7      1157.0       647.0         3.1200            241400.0        NEAR BAY  \n",
            "8      1206.0       595.0         2.0804            226700.0        NEAR BAY  \n",
            "9      1551.0       714.0         3.6912            261100.0        NEAR BAY  \n"
          ]
        }
      ]
    },
    {
      "cell_type": "code",
      "source": [
        "housing.info()"
      ],
      "metadata": {
        "colab": {
          "base_uri": "https://localhost:8080/"
        },
        "id": "v696dx1dq8Iz",
        "outputId": "4b5d3e60-627a-419f-cfa2-fc079debe17c"
      },
      "execution_count": 3,
      "outputs": [
        {
          "output_type": "stream",
          "name": "stdout",
          "text": [
            "<class 'pandas.core.frame.DataFrame'>\n",
            "RangeIndex: 20640 entries, 0 to 20639\n",
            "Data columns (total 10 columns):\n",
            " #   Column              Non-Null Count  Dtype  \n",
            "---  ------              --------------  -----  \n",
            " 0   longitude           20640 non-null  float64\n",
            " 1   latitude            20640 non-null  float64\n",
            " 2   housing_median_age  20640 non-null  float64\n",
            " 3   total_rooms         20640 non-null  float64\n",
            " 4   total_bedrooms      20433 non-null  float64\n",
            " 5   population          20640 non-null  float64\n",
            " 6   households          20640 non-null  float64\n",
            " 7   median_income       20640 non-null  float64\n",
            " 8   median_house_value  20640 non-null  float64\n",
            " 9   ocean_proximity     20640 non-null  object \n",
            "dtypes: float64(9), object(1)\n",
            "memory usage: 1.6+ MB\n"
          ]
        }
      ]
    },
    {
      "cell_type": "code",
      "source": [
        "# Observations of the dataset\n",
        "# Total number of rows are 20650 and in the total_bedrooms column non null values are 20433 which means there are some null values.\n",
        "# Also the ocean_proximity columm type is object and if you observe the column values they are categorical."
      ],
      "metadata": {
        "id": "iSDxRrhGrVLf"
      },
      "execution_count": 4,
      "outputs": []
    },
    {
      "cell_type": "code",
      "source": [
        "#Splitting the dataset into test_set and train_set using the numpy and random numbers\n",
        "import numpy as np\n",
        "def shuffle_and_split_data(dataset,test_size_ratio):\n",
        "  shuffled_indices=np.random.permutation(len(dataset))\n",
        "  test_set_size=int(len(dataset) * test_size_ratio)\n",
        "  test_set=dataset.iloc[:test_set_size]\n",
        "  train_set=dataset.iloc[test_set_size:]\n",
        "  return [test_set, train_set]\n",
        "\n",
        "#test_set, train_set = shuffle_and_split_data(housing, 0.2)"
      ],
      "metadata": {
        "id": "7Hht76HnwUwe"
      },
      "execution_count": 5,
      "outputs": []
    },
    {
      "cell_type": "code",
      "source": [
        "from sklearn.model_selection import train_test_split\n",
        "train_set, test_set = train_test_split(housing, test_size = 0.2, random_state= 42)\n",
        "print(train_set.head())"
      ],
      "metadata": {
        "id": "OwvcAD3g1WqG",
        "colab": {
          "base_uri": "https://localhost:8080/"
        },
        "outputId": "9535d0ee-b9b9-49ec-9ff8-fac8cb3344f5"
      },
      "execution_count": 6,
      "outputs": [
        {
          "output_type": "stream",
          "name": "stdout",
          "text": [
            "       longitude  latitude  housing_median_age  total_rooms  total_bedrooms  \\\n",
            "14196    -117.22     32.75                34.0       6001.0          1111.0   \n",
            "8267     -117.03     32.69                10.0        901.0           163.0   \n",
            "17445    -122.27     37.74                28.0       6909.0          1554.0   \n",
            "14265    -121.82     37.25                25.0       4021.0           634.0   \n",
            "2271     -115.98     33.32                 8.0        240.0            46.0   \n",
            "\n",
            "       population  households  median_income  median_house_value  \\\n",
            "14196      2654.0      1072.0         4.5878            291000.0   \n",
            "8267        698.0       167.0         4.6648            156100.0   \n",
            "17445      2974.0      1484.0         3.6875            353900.0   \n",
            "14265      2178.0       650.0         5.1663            241200.0   \n",
            "2271         63.0        24.0         1.4688             53800.0   \n",
            "\n",
            "      ocean_proximity  \n",
            "14196      NEAR OCEAN  \n",
            "8267       NEAR OCEAN  \n",
            "17445        NEAR BAY  \n",
            "14265       <1H OCEAN  \n",
            "2271           INLAND  \n"
          ]
        }
      ]
    },
    {
      "cell_type": "code",
      "source": [
        "# Creating a new column by splitting the columns into different intervals or categoreis for a continuous column by using the pd.cut()\n",
        "import pandas as pd\n",
        "import matplotlib.pyplot as plt\n",
        "import seaborn as sns\n",
        "\n",
        "# Adding a new column named income_cat to the housing dataframe by using cut which categorizes the values into bins\n",
        "housing['income_cat'] = pd.cut(housing['median_income'], bins = [0, 1.5, 3.0, 4.5, 6.0, np.inf], labels = [1, 2, 3, 4, 5])\n",
        "# above categories are 0 - 1.49999 -- 1 , 1.5 - 2.999999 -- 2 ....\n",
        "\n",
        "print(housing.columns)\n",
        "housing.loc[:,['income_cat']]\n",
        "\n",
        "histogram, axes = plt.subplots()\n",
        "sns.countplot(data=housing, x='income_cat', ax=axes)\n",
        "\n"
      ],
      "metadata": {
        "id": "ueXNezaZ5mCS",
        "colab": {
          "base_uri": "https://localhost:8080/",
          "height": 537
        },
        "outputId": "d4185c12-519d-4274-cfec-e1ebbc5e17b9"
      },
      "execution_count": 7,
      "outputs": [
        {
          "output_type": "stream",
          "name": "stdout",
          "text": [
            "Index(['longitude', 'latitude', 'housing_median_age', 'total_rooms',\n",
            "       'total_bedrooms', 'population', 'households', 'median_income',\n",
            "       'median_house_value', 'ocean_proximity', 'income_cat'],\n",
            "      dtype='object')\n"
          ]
        },
        {
          "output_type": "execute_result",
          "data": {
            "text/plain": [
              "<Axes: xlabel='income_cat', ylabel='count'>"
            ]
          },
          "metadata": {},
          "execution_count": 7
        },
        {
          "output_type": "display_data",
          "data": {
            "text/plain": [
              "<Figure size 640x480 with 1 Axes>"
            ],
            "image/png": "[encoded data removed]"
          },
          "metadata": {}
        }
      ]
    },
    {
      "cell_type": "code",
      "source": [
        "# We are gonna use the StratifiedShuffleSplit to preserve the class distribution.\n",
        "# This is used in situations where we have a classifcation problem with imbalanced class distribution.\n",
        "#This module is particularly useful for creating train/test splits of your dataset while ensuring that the class distribution is preserved in both the training and testing sets.\n",
        "\n",
        "from sklearn.model_selection import StratifiedShuffleSplit\n",
        "splitter = StratifiedShuffleSplit(n_splits = 10, test_size = 0.2, random_state = 42)\n",
        "strat_splits = []\n",
        "\n",
        "# The splitter object only returns the indices but not rows. So, we need to create dataframes and storing it in a list for further accessing.\n",
        "# The split method, creates a generator and we can use that to get indices\n",
        "for train_index, test_index in splitter.split(housing, housing['income_cat']):\n",
        "    strat_train_set = housing.iloc[train_index]\n",
        "    strat_test_set = housing.iloc[test_index]\n",
        "    strat_splits.append([strat_train_set, strat_test_set])\n",
        "strat_train_1, strat_test_1 = strat_splits[0]\n"
      ],
      "metadata": {
        "id": "5w2J4LI-7D9u"
      },
      "execution_count": 8,
      "outputs": []
    },
    {
      "cell_type": "code",
      "source": [
        "# We can check the percentages of each class or category in the income_cat column to see the distributions\n",
        "print(strat_test_1['income_cat'].value_counts() / len(strat_test_1))"
      ],
      "metadata": {
        "colab": {
          "base_uri": "https://localhost:8080/"
        },
        "id": "VrkaIMYtCnGf",
        "outputId": "25049126-d8e2-49a6-9d49-f39cae974446"
      },
      "execution_count": 9,
      "outputs": [
        {
          "output_type": "stream",
          "name": "stdout",
          "text": [
            "3    0.350533\n",
            "2    0.318798\n",
            "4    0.176357\n",
            "5    0.114341\n",
            "1    0.039971\n",
            "Name: income_cat, dtype: float64\n"
          ]
        }
      ]
    },
    {
      "cell_type": "code",
      "source": [
        "# Dropping the income_cat column from the both the strat_train_1 and strat_test_1 dataframes.\n",
        "#for df in (strat_train_1, strat_test_1):\n",
        "    #df.drop(\"income_cat\", axis = 1, inplace = True)\n",
        "\n",
        "# Creating a copy of the strat_train_1 in the housing_copy\n",
        "housing_strat_copy = strat_train_1.copy()"
      ],
      "metadata": {
        "id": "qC1HuhozEQfH"
      },
      "execution_count": 10,
      "outputs": []
    },
    {
      "cell_type": "code",
      "source": [
        "# Since the dataset is having lattitues and longitudes, we can create a scatterplot to visualize the districts\n",
        "\n",
        "sns.relplot(data = strat_train_1, kind = \"scatter\", x = \"longitude\", y = \"latitude\", s = strat_train_1['population'] / 100, hue = \"median_house_value\", palette = \"flare\")\n",
        "\n",
        "\n"
      ],
      "metadata": {
        "id": "-V7vcTXUG3UI",
        "colab": {
          "base_uri": "https://localhost:8080/"
        },
        "outputId": "1bc79bbb-1859-44af-f08f-c6ca0927d66e"
      },
      "execution_count": null,
      "outputs": [
        {
          "output_type": "execute_result",
          "data": {
            "text/plain": [
              "<seaborn.axisgrid.FacetGrid at 0x7c0cf80a7e80>"
            ]
          },
          "metadata": {},
          "execution_count": 11
        }
      ]
    },
    {
      "cell_type": "code",
      "source": [
        "# Creating the co-relation matrix( or commonly called pearson's r) to see any co-realtion among the attribues\n",
        "corr_matrix = housing.corr()\n",
        "corr_matrix['median_house_value'].sort_values(ascending = True)\n",
        "\n",
        "\n",
        "# If you see there is a strong corelation between median_house_value and the median_income"
      ],
      "metadata": {
        "id": "tLLCaAo3V71Y"
      },
      "execution_count": null,
      "outputs": []
    },
    {
      "cell_type": "code",
      "source": [
        "# We see that there is a positive correlation between Median house value and median income. Let us plot a scatterplot for the both columns.\n",
        "scatter_i_h, axes = plt.subplots()\n",
        "sns.scatterplot(data = strat_train_1, x = \"median_income\", y = \"median_house_value\", s = 4, ax = axes)"
      ],
      "metadata": {
        "id": "vo9fMJO10fsA"
      },
      "execution_count": null,
      "outputs": []
    },
    {
      "cell_type": "code",
      "source": [
        "housing = strat_train_1.drop(\"median_house_value\", axis = 1)\n",
        "housing_labels = strat_train_1[\"median_house_value\"].copy()\n",
        "\n",
        "#Cleaning the data to handle the missing values using the normal way and from the Sklearn\n",
        "# 1 Get rid of the corresponding districts.\n",
        "# 2 Get rid of the whole attribute.\n",
        "# 3 Set the missing values to some value (zero, the mean, the median, etc.). This is called imputation.\n",
        "\n",
        "from sklearn.impute import SimpleImputer\n",
        "imputer = SimpleImputer(strategy = \"median\")\n",
        "\n",
        "# Since median can only be calculated on the numerical attributes, we need to create a copy of all the attributes except object types.\n",
        "housing_numerical = housing.select_dtypes(include = [np.number])\n",
        "# using the fit() to the training data to calculate the median values and it is stored in the imputer.statistics_ attribute\n",
        "imputer.fit(housing_numerical)\n",
        "# So now we calcualted the median values of all the attributes(remeber we created a new df for the numerical attributes)\n",
        "imputer.statistics_\n",
        "# Now transforming or modifying the housing_numerical dataframe to fillin the median values for the missing values.\n",
        "#Remember the transform method returns a numpy array or scikit sparse matrix. We need to convert the array to Dataframe in later step.\n",
        "\n",
        "X = imputer.transform(housing_numerical)\n",
        "housing_transformed = pd.DataFrame(X, columns = housing_numerical.columns, index = housing_numerical.index)\n",
        "print(housing_transformed.info())\n",
        "#You can see that all the missing values are handles by replacing them with the median value using the SimpleImputer class ."
      ],
      "metadata": {
        "id": "h_zI9-if6vjT"
      },
      "execution_count": null,
      "outputs": []
    },
    {
      "cell_type": "code",
      "source": [
        "# We all know that ML algorithms works very well with the numericals rather than categorical variables. So, we need to encode the variables\n",
        "# One of the class is OrdinalEncoder ( Which is best for if the values of a column are in a ordinal relationship i.e in an increasing order or hierarchical order)\n",
        "# High School , Undergrad, Grad, Phd , post doc etc... these are getting advanced from one to another...also... bad avg good vgood excellent..\n",
        "from sklearn.preprocessing import OrdinalEncoder\n",
        "housing_cat = housing[['ocean_proximity']]\n",
        "encoder = OrdinalEncoder()\n",
        "encoder.fit_transform(housing_cat)\n",
        "# But the problem with this encoding is that they are not in a ordinal relationship and ML tend to consider that close values are similar .\n",
        "encoder.categories_"
      ],
      "metadata": {
        "id": "z9LepSkGPnaU"
      },
      "execution_count": null,
      "outputs": []
    },
    {
      "cell_type": "code",
      "source": [
        "# We will use the one-hot encoding method to encode our categorical attribute.\n",
        "# One-hot encoding converts each category into a binary vector of zeros and ones. Each category is transformed into a new binary feature,\n",
        "# and only one of these binary features is \"hot\" (set to 1) for a given data point indicating the category's presence.\n",
        "from sklearn.preprocessing import OneHotEncoder\n",
        "one_hot_encoder = OneHotEncoder()\n",
        "housing_cat_1hot = one_hot_encoder.fit_transform(housing_cat)\n",
        "\n",
        "# The return type of the one_hot encoder is the sciPy sparse matrix because only one of them encoded as hot i.e 1 and the rest as 0's."
      ],
      "metadata": {
        "id": "C5ffUjJaSjgM"
      },
      "execution_count": null,
      "outputs": []
    },
    {
      "cell_type": "code",
      "source": [
        "# Scaling the values and normalizing them to keep them in a specific range so that larger values doesn't dominate the lower values.\n",
        "# One type of scaling is MinMax Scaling which scales the values to the range [0,1].\n",
        "# We can also select a different range but [0,1] is the default value  and the formula is x-min / max -min\n",
        "from sklearn.preprocessing import MinMaxScaler\n",
        "minmax_scaler = MinMaxScaler(feature_range= (-1,1))\n",
        "housing_numerical_min_max_scaled = minmax_scaler.fit_transform(housing_numerical)\n",
        "print(pd.DataFrame(housing_numerical_min_max_scaled, columns = housing_numerical.columns, index = housing_numerical.index).head())\n"
      ],
      "metadata": {
        "id": "nC9Vq-9xTqNd"
      },
      "execution_count": null,
      "outputs": []
    },
    {
      "cell_type": "code",
      "source": [
        "hist, axes = plt.subplots()\n",
        "sns.histplot(data = housing_numerical, x = 'housing_median_age', element = \"poly\", ax = axes)"
      ],
      "metadata": {
        "id": "ja4KyHBN4KI5"
      },
      "execution_count": null,
      "outputs": []
    },
    {
      "cell_type": "code",
      "source": [
        "print(housing_labels.head(n=7))"
      ],
      "metadata": {
        "id": "lwDJyks7Vu1m"
      },
      "execution_count": null,
      "outputs": []
    },
    {
      "cell_type": "code",
      "source": [
        "# We are using LinearRegression class to predict the value.\n",
        "from sklearn.linear_model import LinearRegression\n",
        "from sklearn.preprocessing import StandardScaler\n",
        "target_scaler = StandardScaler()\n",
        "scaled_labels = target_scaler.fit_transform(housing_labels.to_frame())\n",
        "model = LinearRegression()\n",
        "model.fit(housing[['median_income']], scaled_labels)\n",
        "some_new_data = housing[['median_income']].iloc[:5]\n",
        "scaled_prediction = model.predict(some_new_data)\n",
        "# We are using the .inverse_transform() to get back to the normal value.\n",
        "prediction = target_scaler.inverse_transform(scaled_prediction)\n",
        "print(prediction)"
      ],
      "metadata": {
        "id": "Q1i9DMDn7oPX"
      },
      "execution_count": null,
      "outputs": []
    },
    {
      "cell_type": "code",
      "source": [
        "# Applying a custom function or in-built functions to all the data points using the FunctionTransformer\n",
        "from sklearn.preprocessing import FunctionTransformer\n",
        "log_transformer = FunctionTransformer(np.log, inverse_func = np.exp)\n",
        "log_pop = log_transformer.transform(housing[['population']])"
      ],
      "metadata": {
        "id": "NtYt5PDzZ_V9"
      },
      "execution_count": null,
      "outputs": []
    },
    {
      "cell_type": "code",
      "source": [
        "from IPython.core.interactiveshell import dis\n",
        "from sklearn.pipeline import make_pipeline\n",
        "num_pipeline = make_pipeline(SimpleImputer(strategy = \"median\"), StandardScaler())\n",
        "num_pipeline"
      ],
      "metadata": {
        "id": "vPT0q6uaz2Yv"
      },
      "execution_count": null,
      "outputs": []
    }
  ]
}