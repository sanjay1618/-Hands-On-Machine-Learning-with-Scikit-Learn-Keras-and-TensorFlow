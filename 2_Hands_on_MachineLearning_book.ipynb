{
  "nbformat": 4,
  "nbformat_minor": 0,
  "metadata": {
    "colab": {
      "provenance": [],
      "authorship_tag": "ABX9TyOcSCk6yDRzzgoujUljl8Ne",
      "include_colab_link": true
    },
    "kernelspec": {
      "name": "python3",
      "display_name": "Python 3"
    },
    "language_info": {
      "name": "python"
    }
  },
  "cells": [
    {
      "cell_type": "markdown",
      "metadata": {
        "id": "view-in-github",
        "colab_type": "text"
      },
      "source": [
        "<a href=\"https://colab.research.google.com/github/sanjay1618/-Hands-On-Machine-Learning-with-Scikit-Learn-Keras-and-TensorFlow/blob/main/2_Hands_on_MachineLearning_book.ipynb\" target=\"_parent\"><img src=\"https://colab.research.google.com/assets/colab-badge.svg\" alt=\"Open In Colab\"/></a>"
      ]
    },
    {
      "cell_type": "code",
      "execution_count": 2,
      "metadata": {
        "id": "97cLNj4TeQkb"
      },
      "outputs": [],
      "source": [
        "#Extracting the dataset and loading into the hosuing variable\n",
        "from pathlib import Path\n",
        "import pandas as pd\n",
        "import tarfile\n",
        "import urllib.request\n",
        "\n",
        "def load_housing_data():\n",
        "    tarball_path = Path(\"datasets/housing.tgz\")\n",
        "    if not tarball_path.is_file():\n",
        "        Path(\"datasets\").mkdir(parents=True, exist_ok=True)\n",
        "        url = \"https://github.com/ageron/data/raw/main/housing.tgz\"\n",
        "        urllib.request.urlretrieve(url, tarball_path)\n",
        "        with tarfile.open(tarball_path) as housing_tarball:\n",
        "            housing_tarball.extractall(path=\"datasets\")\n",
        "    return pd.read_csv(Path(\"datasets/housing/housing.csv\"))\n",
        "\n",
        "housing = load_housing_data()\n"
      ]
    },
    {
      "cell_type": "code",
      "source": [
        "print(housing.head(n=10))"
      ],
      "metadata": {
        "colab": {
          "base_uri": "https://localhost:8080/"
        },
        "id": "TqcGN72Uqg3T",
        "outputId": "00be978a-c982-4d16-e054-10ba82723138"
      },
      "execution_count": 3,
      "outputs": [
        {
          "output_type": "stream",
          "name": "stdout",
          "text": [
            "   longitude  latitude  housing_median_age  total_rooms  total_bedrooms  \\\n",
            "0    -122.23     37.88                41.0        880.0           129.0   \n",
            "1    -122.22     37.86                21.0       7099.0          1106.0   \n",
            "2    -122.24     37.85                52.0       1467.0           190.0   \n",
            "3    -122.25     37.85                52.0       1274.0           235.0   \n",
            "4    -122.25     37.85                52.0       1627.0           280.0   \n",
            "5    -122.25     37.85                52.0        919.0           213.0   \n",
            "6    -122.25     37.84                52.0       2535.0           489.0   \n",
            "7    -122.25     37.84                52.0       3104.0           687.0   \n",
            "8    -122.26     37.84                42.0       2555.0           665.0   \n",
            "9    -122.25     37.84                52.0       3549.0           707.0   \n",
            "\n",
            "   population  households  median_income  median_house_value ocean_proximity  \n",
            "0       322.0       126.0         8.3252            452600.0        NEAR BAY  \n",
            "1      2401.0      1138.0         8.3014            358500.0        NEAR BAY  \n",
            "2       496.0       177.0         7.2574            352100.0        NEAR BAY  \n",
            "3       558.0       219.0         5.6431            341300.0        NEAR BAY  \n",
            "4       565.0       259.0         3.8462            342200.0        NEAR BAY  \n",
            "5       413.0       193.0         4.0368            269700.0        NEAR BAY  \n",
            "6      1094.0       514.0         3.6591            299200.0        NEAR BAY  \n",
            "7      1157.0       647.0         3.1200            241400.0        NEAR BAY  \n",
            "8      1206.0       595.0         2.0804            226700.0        NEAR BAY  \n",
            "9      1551.0       714.0         3.6912            261100.0        NEAR BAY  \n"
          ]
        }
      ]
    },
    {
      "cell_type": "code",
      "source": [
        "housing.info()"
      ],
      "metadata": {
        "colab": {
          "base_uri": "https://localhost:8080/"
        },
        "id": "v696dx1dq8Iz",
        "outputId": "3f9bf2ef-83dd-4dc1-9978-ae3d3eca6c94"
      },
      "execution_count": 4,
      "outputs": [
        {
          "output_type": "stream",
          "name": "stdout",
          "text": [
            "<class 'pandas.core.frame.DataFrame'>\n",
            "RangeIndex: 20640 entries, 0 to 20639\n",
            "Data columns (total 10 columns):\n",
            " #   Column              Non-Null Count  Dtype  \n",
            "---  ------              --------------  -----  \n",
            " 0   longitude           20640 non-null  float64\n",
            " 1   latitude            20640 non-null  float64\n",
            " 2   housing_median_age  20640 non-null  float64\n",
            " 3   total_rooms         20640 non-null  float64\n",
            " 4   total_bedrooms      20433 non-null  float64\n",
            " 5   population          20640 non-null  float64\n",
            " 6   households          20640 non-null  float64\n",
            " 7   median_income       20640 non-null  float64\n",
            " 8   median_house_value  20640 non-null  float64\n",
            " 9   ocean_proximity     20640 non-null  object \n",
            "dtypes: float64(9), object(1)\n",
            "memory usage: 1.6+ MB\n"
          ]
        }
      ]
    },
    {
      "cell_type": "code",
      "source": [
        "# Observations of the dataset\n",
        "# Total number of rows are 20650 and in the total_bedrooms column non null values are 20433 which means there are some null values.\n",
        "# Also the ocean_proximity columm type is object and if you observe the column values they are categorical."
      ],
      "metadata": {
        "id": "iSDxRrhGrVLf"
      },
      "execution_count": null,
      "outputs": []
    },
    {
      "cell_type": "code",
      "source": [
        "#Splitting the dataset into test_set and train_set using the numpy and random numbers\n",
        "import numpy as np\n",
        "def shuffle_and_split_data(dataset,test_size_ratio):\n",
        "  shuffled_indices=np.random.permutation(len(dataset))\n",
        "  test_set_size=int(len(dataset) * test_size_ratio)\n",
        "  test_set=dataset.iloc[:test_set_size]\n",
        "  train_set=dataset.iloc[test_set_size:]\n",
        "  return [test_set, train_set]\n",
        "\n",
        "#test_set, train_set = shuffle_and_split_data(housing, 0.2)"
      ],
      "metadata": {
        "id": "7Hht76HnwUwe"
      },
      "execution_count": 21,
      "outputs": []
    },
    {
      "cell_type": "code",
      "source": [
        "from sklearn.model_selection import train_test_split\n",
        "train_set, test_set = train_test_split(housing, test_size = 0.2, random_state= 42)\n",
        "print(train_set.head())"
      ],
      "metadata": {
        "id": "OwvcAD3g1WqG"
      },
      "execution_count": null,
      "outputs": []
    },
    {
      "cell_type": "code",
      "source": [
        "# Creating a new column by splitting the columns into different intervals or categoreis for a continuous column by using the pd.cut()\n",
        "import pandas as pd\n",
        "# Adding a new column named income_cat to the housing dataframe by using cut which categorizes the values into bins\n",
        "housing['income_cat'] = pd.cut(housing['median_income'], bins = [0, 1.5, 3.0, 4.5, 6.0, np.inf], labels = [1, 2, 3, 4, 5])\n",
        "# above categories are 0 - 1.49999 -- 1 , 1.5 - 2.999999 -- 2 ....\n",
        "\n"
      ],
      "metadata": {
        "id": "ueXNezaZ5mCS"
      },
      "execution_count": 30,
      "outputs": []
    }
  ]
}